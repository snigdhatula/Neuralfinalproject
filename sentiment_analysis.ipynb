{
 "cells": [
  {
   "cell_type": "code",
   "execution_count": 1,
   "id": "incoming-stage",
   "metadata": {},
   "outputs": [
    {
     "name": "stderr",
     "output_type": "stream",
     "text": [
      "/Library/Frameworks/Python.framework/Versions/3.6/lib/python3.6/site-packages/tensorflow/python/framework/dtypes.py:526: FutureWarning: Passing (type, 1) or '1type' as a synonym of type is deprecated; in a future version of numpy, it will be understood as (type, (1,)) / '(1,)type'.\n",
      "  _np_qint8 = np.dtype([(\"qint8\", np.int8, 1)])\n",
      "/Library/Frameworks/Python.framework/Versions/3.6/lib/python3.6/site-packages/tensorflow/python/framework/dtypes.py:527: FutureWarning: Passing (type, 1) or '1type' as a synonym of type is deprecated; in a future version of numpy, it will be understood as (type, (1,)) / '(1,)type'.\n",
      "  _np_quint8 = np.dtype([(\"quint8\", np.uint8, 1)])\n",
      "/Library/Frameworks/Python.framework/Versions/3.6/lib/python3.6/site-packages/tensorflow/python/framework/dtypes.py:528: FutureWarning: Passing (type, 1) or '1type' as a synonym of type is deprecated; in a future version of numpy, it will be understood as (type, (1,)) / '(1,)type'.\n",
      "  _np_qint16 = np.dtype([(\"qint16\", np.int16, 1)])\n",
      "/Library/Frameworks/Python.framework/Versions/3.6/lib/python3.6/site-packages/tensorflow/python/framework/dtypes.py:529: FutureWarning: Passing (type, 1) or '1type' as a synonym of type is deprecated; in a future version of numpy, it will be understood as (type, (1,)) / '(1,)type'.\n",
      "  _np_quint16 = np.dtype([(\"quint16\", np.uint16, 1)])\n",
      "/Library/Frameworks/Python.framework/Versions/3.6/lib/python3.6/site-packages/tensorflow/python/framework/dtypes.py:530: FutureWarning: Passing (type, 1) or '1type' as a synonym of type is deprecated; in a future version of numpy, it will be understood as (type, (1,)) / '(1,)type'.\n",
      "  _np_qint32 = np.dtype([(\"qint32\", np.int32, 1)])\n",
      "/Library/Frameworks/Python.framework/Versions/3.6/lib/python3.6/site-packages/tensorflow/python/framework/dtypes.py:535: FutureWarning: Passing (type, 1) or '1type' as a synonym of type is deprecated; in a future version of numpy, it will be understood as (type, (1,)) / '(1,)type'.\n",
      "  np_resource = np.dtype([(\"resource\", np.ubyte, 1)])\n"
     ]
    }
   ],
   "source": [
    "# import libraries\n",
    "import pandas as pd\n",
    "import numpy as np\n",
    "import matplotlib.pyplot as plt\n",
    "import seaborn as sns\n",
    "from sklearn.model_selection import train_test_split\n",
    "from sklearn.metrics import confusion_matrix, classification_report\n",
    "\n",
    "from tensorflow.keras.preprocessing.text import Tokenizer\n",
    "from tensorflow.keras.preprocessing.sequence import pad_sequences\n",
    "from tensorflow.keras.models import Sequential\n",
    "from tensorflow.keras.layers import *\n",
    "from tensorflow.keras.callbacks import EarlyStopping\n",
    "\n",
    "from bs4 import BeautifulSoup\n",
    "from nltk.corpus import stopwords\n",
    "import re\n",
    "import string\n",
    "\n",
    "import os\n",
    "from flask import Flask, request, render_template\n",
    "import json"
   ]
  },
  {
   "cell_type": "code",
   "execution_count": 2,
   "id": "conditional-bleeding",
   "metadata": {},
   "outputs": [],
   "source": [
    "#initialization\n",
    "stop = stopwords.words('english')\n",
    "symbols = list(string.punctuation)\n",
    "app = Flask(__name__)"
   ]
  },
  {
   "cell_type": "code",
   "execution_count": 3,
   "id": "dimensional-ordinary",
   "metadata": {},
   "outputs": [],
   "source": [
    "# load the data\n",
    "data = pd.read_csv('labeledTrainData.tsv', sep=\"\\t\")"
   ]
  },
  {
   "cell_type": "code",
   "execution_count": 4,
   "id": "comprehensive-assets",
   "metadata": {},
   "outputs": [
    {
     "data": {
      "text/html": [
       "<div>\n",
       "<style scoped>\n",
       "    .dataframe tbody tr th:only-of-type {\n",
       "        vertical-align: middle;\n",
       "    }\n",
       "\n",
       "    .dataframe tbody tr th {\n",
       "        vertical-align: top;\n",
       "    }\n",
       "\n",
       "    .dataframe thead th {\n",
       "        text-align: right;\n",
       "    }\n",
       "</style>\n",
       "<table border=\"1\" class=\"dataframe\">\n",
       "  <thead>\n",
       "    <tr style=\"text-align: right;\">\n",
       "      <th></th>\n",
       "      <th>id</th>\n",
       "      <th>sentiment</th>\n",
       "      <th>review</th>\n",
       "    </tr>\n",
       "  </thead>\n",
       "  <tbody>\n",
       "    <tr>\n",
       "      <th>0</th>\n",
       "      <td>5814_8</td>\n",
       "      <td>1</td>\n",
       "      <td>With all this stuff going down at the moment w...</td>\n",
       "    </tr>\n",
       "    <tr>\n",
       "      <th>1</th>\n",
       "      <td>2381_9</td>\n",
       "      <td>1</td>\n",
       "      <td>\\The Classic War of the Worlds\\\" by Timothy Hi...</td>\n",
       "    </tr>\n",
       "    <tr>\n",
       "      <th>2</th>\n",
       "      <td>7759_3</td>\n",
       "      <td>0</td>\n",
       "      <td>The film starts with a manager (Nicholas Bell)...</td>\n",
       "    </tr>\n",
       "    <tr>\n",
       "      <th>3</th>\n",
       "      <td>3630_4</td>\n",
       "      <td>0</td>\n",
       "      <td>It must be assumed that those who praised this...</td>\n",
       "    </tr>\n",
       "    <tr>\n",
       "      <th>4</th>\n",
       "      <td>9495_8</td>\n",
       "      <td>1</td>\n",
       "      <td>Superbly trashy and wondrously unpretentious 8...</td>\n",
       "    </tr>\n",
       "  </tbody>\n",
       "</table>\n",
       "</div>"
      ],
      "text/plain": [
       "       id  sentiment                                             review\n",
       "0  5814_8          1  With all this stuff going down at the moment w...\n",
       "1  2381_9          1  \\The Classic War of the Worlds\\\" by Timothy Hi...\n",
       "2  7759_3          0  The film starts with a manager (Nicholas Bell)...\n",
       "3  3630_4          0  It must be assumed that those who praised this...\n",
       "4  9495_8          1  Superbly trashy and wondrously unpretentious 8..."
      ]
     },
     "execution_count": 4,
     "metadata": {},
     "output_type": "execute_result"
    }
   ],
   "source": [
    "# displaying head\n",
    "data.head()"
   ]
  },
  {
   "cell_type": "code",
   "execution_count": 5,
   "id": "qualified-aggregate",
   "metadata": {},
   "outputs": [],
   "source": [
    "# data preprocessing\n",
    "def cleaning(raw):\n",
    "    htmlFree = BeautifulSoup(raw, \"html.parser\")  # removing html tags\n",
    "    # removing numbers and others except small and capital alphabets\n",
    "    letters = re.sub(\"[^a-zA-Z ]\", \" \", htmlFree.get_text())\n",
    "    low = letters.lower()  # Converting everything to lower case\n",
    "    words = low.split()  # spiliting sentences into words\n",
    "    cleaned = [w for w in words if not w in stop]  # removing stopping words\n",
    "    return ' '.join(cleaned)"
   ]
  },
  {
   "cell_type": "code",
   "execution_count": 6,
   "id": "numeric-azerbaijan",
   "metadata": {},
   "outputs": [],
   "source": [
    "x = list(map(cleaning, data['review']))\n",
    "y = data['sentiment']"
   ]
  },
  {
   "cell_type": "code",
   "execution_count": 7,
   "id": "nervous-nightmare",
   "metadata": {},
   "outputs": [],
   "source": [
    "# split dataset\n",
    "X_train, X_test, y_train, y_test = train_test_split(x, y, test_size=0.2, random_state=42)"
   ]
  },
  {
   "cell_type": "code",
   "execution_count": 8,
   "id": "opponent-killing",
   "metadata": {},
   "outputs": [
    {
     "data": {
      "text/plain": [
       "(20000, 5000, 25000)"
      ]
     },
     "execution_count": 8,
     "metadata": {},
     "output_type": "execute_result"
    }
   ],
   "source": [
    "len(X_train), len(X_test), len(x)"
   ]
  },
  {
   "cell_type": "code",
   "execution_count": 9,
   "id": "working-cherry",
   "metadata": {},
   "outputs": [
    {
     "name": "stdout",
     "output_type": "stream",
     "text": [
      "Sample Reviews:\n",
      " 0    movie plain dumb casting ralph meeker mike ham...\n",
      "1    dahmer young confused man dahmer confusing mov...\n",
      "2    may saints preserve us movie going help someon...\n",
      "3    combination reading novella viewing film inspi...\n",
      "4    daniel day lewis left foot gives us one best p...\n",
      "dtype: object\n"
     ]
    }
   ],
   "source": [
    "# EDA\n",
    "print(\"Sample Reviews:\\n\", pd.Series(X_train).head())"
   ]
  },
  {
   "cell_type": "code",
   "execution_count": 10,
   "id": "cooperative-desert",
   "metadata": {},
   "outputs": [
    {
     "name": "stdout",
     "output_type": "stream",
     "text": [
      "\n",
      "Sentiment Distribution:\n",
      " 1    0.5\n",
      "0    0.5\n",
      "Name: sentiment, dtype: float64\n"
     ]
    }
   ],
   "source": [
    "print(\"\\nSentiment Distribution:\\n\", data['sentiment'].value_counts(normalize=True))"
   ]
  },
  {
   "cell_type": "code",
   "execution_count": 11,
   "id": "animal-david",
   "metadata": {},
   "outputs": [
    {
     "name": "stdout",
     "output_type": "stream",
     "text": [
      "\n",
      "Review Length Stats:\n",
      " count    25000.000000\n",
      "mean       823.983320\n",
      "std        639.122189\n",
      "min         27.000000\n",
      "25%        426.000000\n",
      "50%        604.000000\n",
      "75%       1003.000000\n",
      "max       9155.000000\n",
      "dtype: float64\n"
     ]
    }
   ],
   "source": [
    "print(\"\\nReview Length Stats:\\n\", pd.Series(x).apply(len).describe())"
   ]
  },
  {
   "cell_type": "code",
   "execution_count": 12,
   "id": "comparative-monaco",
   "metadata": {},
   "outputs": [
    {
     "name": "stdout",
     "output_type": "stream",
     "text": [
      "\n",
      "Review Length Distribution (by sentiment):\n",
      "\n"
     ]
    },
    {
     "data": {
      "image/png": "[encoded data removed]",
      "text/plain": [
       "<Figure size 432x288 with 1 Axes>"
      ]
     },
     "metadata": {
      "needs_background": "light"
     },
     "output_type": "display_data"
    }
   ],
   "source": [
    "print(\"\\nReview Length Distribution (by sentiment):\\n\")\n",
    "sns.histplot(\n",
    "    data[data['sentiment'] == 0]['review'].apply(lambda x: len(x.split())),\n",
    "    alpha=0.5,\n",
    "    label='Negative',\n",
    "    color='red')\n",
    "sns.histplot(\n",
    "    data[data['sentiment'] == 1]['review'].apply(lambda x: len(x.split())),\n",
    "    alpha=0.5,\n",
    "    label='Positive',\n",
    "    color='green')\n",
    "plt.legend()\n",
    "plt.show()"
   ]
  },
  {
   "cell_type": "code",
   "execution_count": 13,
   "id": "built-marking",
   "metadata": {},
   "outputs": [
    {
     "name": "stdout",
     "output_type": "stream",
     "text": [
      "\n",
      "Word Frequency Distribution:\n",
      "\n"
     ]
    },
    {
     "data": {
      "image/png": "[encoded data removed]",
      "text/plain": [
       "<Figure size 432x288 with 1 Axes>"
      ]
     },
     "metadata": {
      "needs_background": "light"
     },
     "output_type": "display_data"
    }
   ],
   "source": [
    "print(\"\\nWord Frequency Distribution:\\n\")\n",
    "tokenizer = Tokenizer(num_words=10000)\n",
    "tokenizer.fit_on_texts(X_train)\n",
    "word_counts = pd.Series(tokenizer.word_counts)\n",
    "word_counts.sort_values(ascending=False)[:10].plot(kind='barh')\n",
    "plt.gca().invert_yaxis()\n",
    "plt.xlabel('Word Count')\n",
    "plt.ylabel('Word')\n",
    "plt.show()"
   ]
  },
  {
   "cell_type": "code",
   "execution_count": 14,
   "id": "surrounded-health",
   "metadata": {},
   "outputs": [],
   "source": [
    "# vectorization\n",
    "maxlen = 200\n",
    "X_train = tokenizer.texts_to_sequences(X_train)\n",
    "X_test = tokenizer.texts_to_sequences(X_test)\n",
    "vocab_size = len(tokenizer.word_index) + 1\n",
    "X_train = pad_sequences(X_train, padding='post', maxlen=maxlen)\n",
    "X_test = pad_sequences(X_test, padding='post', maxlen=maxlen)"
   ]
  },
  {
   "cell_type": "code",
   "execution_count": 15,
   "id": "ultimate-chick",
   "metadata": {},
   "outputs": [],
   "source": [
    "# model defining\n",
    "def get_model(model_name):\n",
    "    model = Sequential()\n",
    "    model.add(Embedding(vocab_size, 100, input_length=maxlen))\n",
    "    if model_name == \"CNN\":\n",
    "        model.add(\n",
    "            Conv1D(filters=32,\n",
    "                   kernel_size=3,\n",
    "                   padding='same',\n",
    "                   activation='relu'))\n",
    "        model.add(MaxPooling1D(pool_size=2))\n",
    "    elif model_name == \"LSTM\":\n",
    "        model.add(LSTM(100))\n",
    "    elif model_name == \"BiLSTM\":\n",
    "        model.add(Bidirectional(LSTM(100)))\n",
    "    model.add(Flatten())\n",
    "    model.add(Dense(1, activation='sigmoid'))\n",
    "    model.compile(optimizer='adam',\n",
    "                  loss='binary_crossentropy',\n",
    "                  metrics=['accuracy'])\n",
    "    return model"
   ]
  },
  {
   "cell_type": "code",
   "execution_count": 21,
   "id": "minor-savings",
   "metadata": {
    "scrolled": false
   },
   "outputs": [
    {
     "name": "stdout",
     "output_type": "stream",
     "text": [
      "_________________________________________________________________\n",
      "Layer (type)                 Output Shape              Param #   \n",
      "=================================================================\n",
      "embedding_3 (Embedding)      (None, 200, 100)          6751300   \n",
      "_________________________________________________________________\n",
      "conv1d_1 (Conv1D)            (None, 200, 32)           9632      \n",
      "_________________________________________________________________\n",
      "max_pooling1d_1 (MaxPooling1 (None, 100, 32)           0         \n",
      "_________________________________________________________________\n",
      "flatten_3 (Flatten)          (None, 3200)              0         \n",
      "_________________________________________________________________\n",
      "dense_3 (Dense)              (None, 1)                 3201      \n",
      "=================================================================\n",
      "Total params: 6,764,133\n",
      "Trainable params: 6,764,133\n",
      "Non-trainable params: 0\n",
      "_________________________________________________________________\n",
      "Train on 16000 samples, validate on 4000 samples\n",
      "WARNING:tensorflow:From /Library/Frameworks/Python.framework/Versions/3.6/lib/python3.6/site-packages/tensorflow/python/ops/math_ops.py:3066: to_int32 (from tensorflow.python.ops.math_ops) is deprecated and will be removed in a future version.\n",
      "Instructions for updating:\n",
      "Use tf.cast instead.\n",
      "Epoch 1/50\n",
      "16000/16000 [==============================] - 19s 1ms/sample - loss: 0.4753 - acc: 0.7515 - val_loss: 0.3236 - val_acc: 0.8625\n",
      "Epoch 2/50\n",
      "16000/16000 [==============================] - 18s 1ms/sample - loss: 0.1912 - acc: 0.9284 - val_loss: 0.3242 - val_acc: 0.8725\n",
      "Epoch 3/50\n",
      "16000/16000 [==============================] - 18s 1ms/sample - loss: 0.0947 - acc: 0.9688 - val_loss: 0.4329 - val_acc: 0.8577\n",
      "Epoch 4/50\n",
      "16000/16000 [==============================] - 19s 1ms/sample - loss: 0.0402 - acc: 0.9899 - val_loss: 0.5162 - val_acc: 0.8627\n",
      "Epoch 5/50\n",
      "16000/16000 [==============================] - 19s 1ms/sample - loss: 0.0134 - acc: 0.9980 - val_loss: 0.6056 - val_acc: 0.8560\n",
      "Epoch 6/50\n",
      "16000/16000 [==============================] - 19s 1ms/sample - loss: 0.0043 - acc: 0.9999 - val_loss: 0.6691 - val_acc: 0.8595\n",
      "Epoch 00006: early stopping\n",
      "CNN Confusion Matrix:\n"
     ]
    },
    {
     "data": {
      "image/png": "[encoded data removed]",
      "text/plain": [
       "<Figure size 432x288 with 2 Axes>"
      ]
     },
     "metadata": {
      "needs_background": "light"
     },
     "output_type": "display_data"
    },
    {
     "name": "stdout",
     "output_type": "stream",
     "text": [
      "CNN Classification Report:\n",
      "              precision    recall  f1-score   support\n",
      "\n",
      "           0       0.87      0.86      0.87      2481\n",
      "           1       0.87      0.87      0.87      2519\n",
      "\n",
      "    accuracy                           0.87      5000\n",
      "   macro avg       0.87      0.87      0.87      5000\n",
      "weighted avg       0.87      0.87      0.87      5000\n",
      "\n",
      "_________________________________________________________________\n",
      "Layer (type)                 Output Shape              Param #   \n",
      "=================================================================\n",
      "embedding_4 (Embedding)      (None, 200, 100)          6751300   \n",
      "_________________________________________________________________\n",
      "lstm_2 (LSTM)                (None, 100)               80400     \n",
      "_________________________________________________________________\n",
      "flatten_4 (Flatten)          (None, 100)               0         \n",
      "_________________________________________________________________\n",
      "dense_4 (Dense)              (None, 1)                 101       \n",
      "=================================================================\n",
      "Total params: 6,831,801\n",
      "Trainable params: 6,831,801\n",
      "Non-trainable params: 0\n",
      "_________________________________________________________________\n",
      "Train on 16000 samples, validate on 4000 samples\n",
      "Epoch 1/50\n",
      "16000/16000 [==============================] - 73s 5ms/sample - loss: 0.6998 - acc: 0.5070 - val_loss: 0.6865 - val_acc: 0.5403\n",
      "Epoch 2/50\n",
      "16000/16000 [==============================] - 67s 4ms/sample - loss: 0.6797 - acc: 0.5361 - val_loss: 0.6786 - val_acc: 0.5497\n",
      "Epoch 3/50\n",
      "16000/16000 [==============================] - 66s 4ms/sample - loss: 0.6125 - acc: 0.6218 - val_loss: 0.5365 - val_acc: 0.7728\n",
      "Epoch 4/50\n",
      "16000/16000 [==============================] - 70s 4ms/sample - loss: 0.6215 - acc: 0.6549 - val_loss: 0.6322 - val_acc: 0.6492\n",
      "Epoch 5/50\n",
      "16000/16000 [==============================] - 76s 5ms/sample - loss: 0.5924 - acc: 0.6594 - val_loss: 0.7163 - val_acc: 0.7040\n",
      "Epoch 6/50\n",
      "16000/16000 [==============================] - 66s 4ms/sample - loss: 0.5945 - acc: 0.6642 - val_loss: 0.6419 - val_acc: 0.7250\n",
      "Epoch 7/50\n",
      "16000/16000 [==============================] - 67s 4ms/sample - loss: 0.3705 - acc: 0.8490 - val_loss: 0.3641 - val_acc: 0.8518\n",
      "Epoch 8/50\n",
      "16000/16000 [==============================] - 75s 5ms/sample - loss: 0.2168 - acc: 0.9219 - val_loss: 0.3597 - val_acc: 0.8597\n",
      "Epoch 9/50\n",
      "16000/16000 [==============================] - 97s 6ms/sample - loss: 0.1443 - acc: 0.9543 - val_loss: 0.4385 - val_acc: 0.8555\n",
      "Epoch 10/50\n",
      "16000/16000 [==============================] - 93s 6ms/sample - loss: 0.0991 - acc: 0.9736 - val_loss: 0.4661 - val_acc: 0.8495\n",
      "Epoch 11/50\n",
      "16000/16000 [==============================] - 83s 5ms/sample - loss: 0.0673 - acc: 0.9847 - val_loss: 0.4991 - val_acc: 0.8533\n",
      "Epoch 12/50\n",
      "16000/16000 [==============================] - 92s 6ms/sample - loss: 0.0626 - acc: 0.9848 - val_loss: 0.5256 - val_acc: 0.8508\n",
      "Epoch 13/50\n",
      "16000/16000 [==============================] - 85s 5ms/sample - loss: 0.0513 - acc: 0.9879 - val_loss: 0.5145 - val_acc: 0.8535\n",
      "Epoch 00013: early stopping\n",
      "LSTM Confusion Matrix:\n"
     ]
    },
    {
     "data": {
      "image/png": "[encoded data removed]",
      "text/plain": [
       "<Figure size 432x288 with 2 Axes>"
      ]
     },
     "metadata": {
      "needs_background": "light"
     },
     "output_type": "display_data"
    },
    {
     "name": "stdout",
     "output_type": "stream",
     "text": [
      "LSTM Classification Report:\n",
      "              precision    recall  f1-score   support\n",
      "\n",
      "           0       0.86      0.85      0.85      2481\n",
      "           1       0.85      0.86      0.86      2519\n",
      "\n",
      "    accuracy                           0.86      5000\n",
      "   macro avg       0.86      0.86      0.86      5000\n",
      "weighted avg       0.86      0.86      0.86      5000\n",
      "\n",
      "_________________________________________________________________\n",
      "Layer (type)                 Output Shape              Param #   \n",
      "=================================================================\n",
      "embedding_5 (Embedding)      (None, 200, 100)          6751300   \n",
      "_________________________________________________________________\n",
      "bidirectional_1 (Bidirection (None, 200)               160800    \n",
      "_________________________________________________________________\n",
      "flatten_5 (Flatten)          (None, 200)               0         \n",
      "_________________________________________________________________\n",
      "dense_5 (Dense)              (None, 1)                 201       \n",
      "=================================================================\n",
      "Total params: 6,912,301\n",
      "Trainable params: 6,912,301\n",
      "Non-trainable params: 0\n",
      "_________________________________________________________________\n",
      "Train on 16000 samples, validate on 4000 samples\n",
      "Epoch 1/50\n",
      "16000/16000 [==============================] - 116s 7ms/sample - loss: 0.4567 - acc: 0.7864 - val_loss: 0.3651 - val_acc: 0.8497\n",
      "Epoch 2/50\n",
      "16000/16000 [==============================] - 101s 6ms/sample - loss: 0.2494 - acc: 0.9086 - val_loss: 0.3490 - val_acc: 0.8537\n",
      "Epoch 3/50\n",
      "16000/16000 [==============================] - 108s 7ms/sample - loss: 0.1812 - acc: 0.9356 - val_loss: 0.4265 - val_acc: 0.8355\n",
      "Epoch 4/50\n",
      "16000/16000 [==============================] - 121s 8ms/sample - loss: 0.1451 - acc: 0.9502 - val_loss: 0.4428 - val_acc: 0.8528\n",
      "Epoch 5/50\n",
      "16000/16000 [==============================] - 111s 7ms/sample - loss: 0.0953 - acc: 0.9706 - val_loss: 0.5027 - val_acc: 0.8480\n",
      "Epoch 6/50\n",
      "16000/16000 [==============================] - 101s 6ms/sample - loss: 0.0688 - acc: 0.9800 - val_loss: 0.4835 - val_acc: 0.8410\n",
      "Epoch 7/50\n",
      "16000/16000 [==============================] - 101s 6ms/sample - loss: 0.0534 - acc: 0.9843 - val_loss: 0.5828 - val_acc: 0.8482\n",
      "Epoch 00007: early stopping\n",
      "BiLSTM Confusion Matrix:\n"
     ]
    },
    {
     "data": {
      "image/png": "[encoded data removed]",
      "text/plain": [
       "<Figure size 432x288 with 2 Axes>"
      ]
     },
     "metadata": {
      "needs_background": "light"
     },
     "output_type": "display_data"
    },
    {
     "name": "stdout",
     "output_type": "stream",
     "text": [
      "BiLSTM Classification Report:\n",
      "              precision    recall  f1-score   support\n",
      "\n",
      "           0       0.86      0.86      0.86      2481\n",
      "           1       0.86      0.86      0.86      2519\n",
      "\n",
      "    accuracy                           0.86      5000\n",
      "   macro avg       0.86      0.86      0.86      5000\n",
      "weighted avg       0.86      0.86      0.86      5000\n",
      "\n"
     ]
    }
   ],
   "source": [
    "# model training and evaluation\n",
    "for model_name in [\"CNN\", \"LSTM\", \"BiLSTM\"]:\n",
    "    model = get_model(model_name)\n",
    "    model.summary()\n",
    "    es = EarlyStopping(monitor='val_loss', mode='min', verbose=1, patience=5)\n",
    "    history = model.fit(X_train, y_train, epochs=50, batch_size=64, validation_split=0.2, callbacks=[es])\n",
    "    y_pred = model.predict(X_test)\n",
    "    y_pred = np.round(y_pred)\n",
    "    print(model_name, \"Confusion Matrix:\")\n",
    "    cm = confusion_matrix(y_test, y_pred)\n",
    "    plt.figure(figsize=(6,4))\n",
    "    sns.heatmap(cm, annot=True, fmt='d')\n",
    "    plt.xlabel('Predicted')\n",
    "    plt.ylabel('Actual')\n",
    "    plt.show()\n",
    "    print(model_name, \"Classification Report:\")\n",
    "    print(classification_report(y_test, y_pred))\n"
   ]
  },
  {
   "cell_type": "code",
   "execution_count": 17,
   "id": "committed-documentary",
   "metadata": {},
   "outputs": [],
   "source": [
    "# real-time data testing\n",
    "def predict_sentiment(review):\n",
    "    review = tokenizer.texts_to_sequences([review])\n",
    "    review = pad_sequences(review, padding='post', maxlen=maxlen)\n",
    "    sentiment = model.predict(review)\n",
    "    if sentiment > 0.5:\n",
    "        return \"Positive\"\n",
    "    else:\n",
    "        return \"Negative\"\n"
   ]
  },
  {
   "cell_type": "code",
   "execution_count": 18,
   "id": "established-sewing",
   "metadata": {},
   "outputs": [
    {
     "name": "stdout",
     "output_type": "stream",
     "text": [
      "This movie was great, the acting was superb and the plot was captivating.\n",
      "Positive\n"
     ]
    }
   ],
   "source": [
    "# example real-time data testing\n",
    "review = \"This movie was great, the acting was superb and the plot was captivating.\"\n",
    "print(review)\n",
    "print(predict_sentiment(review))\n"
   ]
  },
  {
   "cell_type": "code",
   "execution_count": 19,
   "id": "difficult-analysis",
   "metadata": {},
   "outputs": [],
   "source": [
    "model.save(\"model.h5\")"
   ]
  },
  {
   "cell_type": "code",
   "execution_count": 20,
   "id": "apart-lecture",
   "metadata": {},
   "outputs": [],
   "source": [
    "import pickle\n",
    "\n",
    "# saving\n",
    "with open('tokenizer.pickle', 'wb') as handle:\n",
    "    pickle.dump(tokenizer, handle, protocol=pickle.HIGHEST_PROTOCOL)"
   ]
  },
  {
   "cell_type": "code",
   "execution_count": null,
   "id": "imperial-topic",
   "metadata": {},
   "outputs": [],
   "source": []
  }
 ],
 "metadata": {
  "kernelspec": {
   "display_name": "Python 3 (ipykernel)",
   "language": "python",
   "name": "python3"
  },
  "language_info": {
   "codemirror_mode": {
    "name": "ipython",
    "version": 3
   },
   "file_extension": ".py",
   "mimetype": "text/x-python",
   "name": "python",
   "nbconvert_exporter": "python",
   "pygments_lexer": "ipython3",
   "version": "3.11.1"
  },
  "nbTranslate": {
   "displayLangs": [
    "*"
   ],
   "hotkey": "alt-t",
   "langInMainMenu": true,
   "sourceLang": "en",
   "targetLang": "fr",
   "useGoogleTranslate": true
  },
  "toc": {
   "base_numbering": 1,
   "nav_menu": {},
   "number_sections": true,
   "sideBar": true,
   "skip_h1_title": false,
   "title_cell": "Table of Contents",
   "title_sidebar": "Contents",
   "toc_cell": false,
   "toc_position": {},
   "toc_section_display": true,
   "toc_window_display": false
  },
  "varInspector": {
   "cols": {
    "lenName": 16,
    "lenType": 16,
    "lenVar": 40
   },
   "kernels_config": {
    "python": {
     "delete_cmd_postfix": "",
     "delete_cmd_prefix": "del ",
     "library": "var_list.py",
     "varRefreshCmd": "print(var_dic_list())"
    },
    "r": {
     "delete_cmd_postfix": ") ",
     "delete_cmd_prefix": "rm(",
     "library": "var_list.r",
     "varRefreshCmd": "cat(var_dic_list()) "
    }
   },
   "types_to_exclude": [
    "module",
    "function",
    "builtin_function_or_method",
    "instance",
    "_Feature"
   ],
   "window_display": false
  }
 },
 "nbformat": 4,
 "nbformat_minor": 5
}
